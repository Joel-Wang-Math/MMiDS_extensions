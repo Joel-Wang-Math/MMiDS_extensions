{
  "nbformat": 4,
  "nbformat_minor": 0,
  "metadata": {
    "colab": {
      "provenance": [],
      "authorship_tag": "ABX9TyNY2n22EWzGK0At/Tg5gZuR",
      "include_colab_link": true
    },
    "kernelspec": {
      "name": "python3",
      "display_name": "Python 3"
    },
    "language_info": {
      "name": "python"
    }
  },
  "cells": [
    {
      "cell_type": "markdown",
      "metadata": {
        "id": "view-in-github",
        "colab_type": "text"
      },
      "source": [
        "<a href=\"https://colab.research.google.com/github/Joel-Wang-Math/MMiDS_extensions/blob/main/K_means_Clustering.ipynb\" target=\"_parent\"><img src=\"https://colab.research.google.com/assets/colab-badge.svg\" alt=\"Open In Colab\"/></a>"
      ]
    },
    {
      "cell_type": "code",
      "execution_count": 24,
      "metadata": {
        "id": "SuPE4gMIVM2j"
      },
      "outputs": [],
      "source": [
        "import numpy as np\n",
        "import matplotlib.pyplot as plt\n",
        "from numpy import linalg as LA\n",
        "\n",
        "def opt_reps(X, k, assign):\n",
        "    (n, d) = X.shape\n",
        "    reps = np.zeros((k, d))\n",
        "    for i in range(k):\n",
        "        in_i = [j for j in range(n) if assign[j] == i]\n",
        "        reps[i,:] = np.sum(X[in_i,:],axis=0) / len(in_i)\n",
        "    return reps\n",
        "\n",
        "def opt_clust(X, k, reps):\n",
        "    (n, d) = X.shape\n",
        "    dist = np.zeros(n)\n",
        "    assign = np.zeros(n, dtype=int)\n",
        "    for j in range(n):\n",
        "        dist_to_i = np.array([LA.norm(X[j,:] - reps[i,:]) for i in range(k)])\n",
        "        assign[j] = np.argmin(dist_to_i)\n",
        "        dist[j] = dist_to_i[assign[j]]\n",
        "    G = np.sum(dist ** 2)\n",
        "    print(G)\n",
        "    return assign"
      ]
    },
    {
      "cell_type": "code",
      "source": [
        "def kmeans(rng, X, k, maxiter=5):\n",
        "    (n, d) = X.shape\n",
        "    assign = rng.integers(0,k,n) # generates an array of n random integers, each between 0 and k - 1 (inclusive of 0, exclusive of k).\n",
        "    reps = np.zeros((k, d), dtype=int)\n",
        "    for iter in range(maxiter):\n",
        "        reps = opt_reps(X, k, assign)\n",
        "        assign = opt_clust(X, k, reps)\n",
        "    return assign\n",
        "\n",
        "\n",
        "def kmeans_tol(rng, X, k, tol=0.1, max_iter=100):\n",
        "    n, d = X.shape\n",
        "    assign = rng.integers(0,k,n)\n",
        "    reps = np.zeros((k, d), dtype=int)\n",
        "    prev_G = np.inf\n",
        "\n",
        "    for iter in range(max_iter):\n",
        "        # Step 1: update representatives (cluster centers)\n",
        "        reps = np.array([X[assign == j].mean(axis=0) if np.any(assign == j) else X[rng.integers(0, n)] for j in range(k)])\n",
        "\n",
        "        # Step 2: update assignments\n",
        "        distances = np.linalg.norm(X[:, None] - reps, axis=2)\n",
        "        assign = distances.argmin(axis=1)\n",
        "\n",
        "        # Step 3: Compute objective G (sum of squared distances)\n",
        "        G = np.sum((X - reps[assign]) ** 2)\n",
        "\n",
        "        # Check for convergence\n",
        "        improvement = prev_G - G\n",
        "        if improvement >= 0 and improvement < tol:\n",
        "            print(f\"Converged after {iter + 1} iterations with improvement {improvement:.4f}\")\n",
        "            break\n",
        "\n",
        "        prev_G = G\n",
        "\n",
        "    return assign, reps"
      ],
      "metadata": {
        "id": "u0rEYCgo_D1b"
      },
      "execution_count": 40,
      "outputs": []
    },
    {
      "cell_type": "code",
      "source": [
        "seed = 535\n",
        "rng = np.random.default_rng(seed)\n",
        "X = np.array([[1., 0.],[-2., 0.],[-2.,1.],[1.,-3.],\n",
        "              [-10.,10.],[2.,-2.],[-3.,1.],[3.,-1.]])\n",
        "assign = kmeans(rng, X, 3) # Why we couldn't set k = 7? Does this implementation handle empty clusters?"
      ],
      "metadata": {
        "colab": {
          "base_uri": "https://localhost:8080/"
        },
        "id": "sBKeRcz1-9Er",
        "outputId": "4a305a6e-d581-4e97-e64c-450a87315323"
      },
      "execution_count": 44,
      "outputs": [
        {
          "output_type": "stream",
          "name": "stdout",
          "text": [
            "162.7\n",
            "74.8611111111111\n",
            "9.083333333333334\n",
            "9.083333333333334\n",
            "9.083333333333334\n"
          ]
        }
      ]
    },
    {
      "cell_type": "code",
      "source": [
        "plt.scatter(X[:,0], X[:,1], s=10, c=assign, cmap='brg')\n",
        "plt.axis([-11,4,-4,11])\n",
        "plt.show()"
      ],
      "metadata": {
        "colab": {
          "base_uri": "https://localhost:8080/",
          "height": 430
        },
        "id": "y2rSxVTk--bK",
        "outputId": "00b49a2c-715b-4223-876c-1e8b4813f47f"
      },
      "execution_count": 45,
      "outputs": [
        {
          "output_type": "display_data",
          "data": {
            "text/plain": [
              "<Figure size 640x480 with 1 Axes>"
            ],
            "image/png": "[encoded data removed]"
          },
          "metadata": {}
        }
      ]
    },
    {
      "cell_type": "code",
      "source": [
        "print(opt_reps(X, 3, assign))"
      ],
      "metadata": {
        "colab": {
          "base_uri": "https://localhost:8080/"
        },
        "id": "pJ7bde9PAhw-",
        "outputId": "e07a299c-7dc2-49c0-c775-6e96ab1abc1b"
      },
      "execution_count": 46,
      "outputs": [
        {
          "output_type": "stream",
          "name": "stdout",
          "text": [
            "[[ -2.33333333   0.66666667]\n",
            " [  1.75        -1.5       ]\n",
            " [-10.          10.        ]]\n"
          ]
        }
      ]
    },
    {
      "cell_type": "code",
      "source": [],
      "metadata": {
        "id": "rgOO1993A8GP"
      },
      "execution_count": null,
      "outputs": []
    }
  ]
}